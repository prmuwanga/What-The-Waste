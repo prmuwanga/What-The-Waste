{
 "cells": [
  {
   "cell_type": "code",
   "execution_count": 3,
   "metadata": {},
   "outputs": [],
   "source": [
    "# Importing Libraries\n",
    "import pandas as pd \n",
    "import numpy as np\n",
    "import matplotlib.pyplot as plt\n",
    "import seaborn as sns"
   ]
  },
  {
   "cell_type": "code",
   "execution_count": 5,
   "metadata": {},
   "outputs": [
    {
     "name": "stdout",
     "output_type": "stream",
     "text": [
      "Removed 0 corrupt images.\n"
     ]
    }
   ],
   "source": [
    "# Cleaning the data \n",
    "import os \n",
    "from PIL import Image\n",
    "from collections import Counter\n",
    "\n",
    "# Remove Corrupted or Unreadable Images \n",
    "dataset_path = 'dataset-resized'\n",
    "def remove_corrupt_images(dataset_path):\n",
    "    total_removed = 0 \n",
    "    \n",
    "    for class_folder in os.listdir(dataset_path):\n",
    "        class_path = os.path.join(dataset_path, class_folder)\n",
    "        \n",
    "        if not os.path.isdir(class_path):\n",
    "            continue\n",
    "\n",
    "        for filename in os.listdir(class_path):\n",
    "            file_path = os.path.join(class_path, filename)\n",
    "            try:\n",
    "                with Image.open(file_path) as img:\n",
    "                \n",
    "                    img.verify()\n",
    "            except Exception as e:\n",
    "                print(f\"Removeing corrupted image: {file_path} - {e}\")\n",
    "                os.remove(file_path)\n",
    "                total_removed += 1 \n",
    "    print(f\"Removed {total_removed} corrupt images.\")\n",
    "\n",
    "if __name__ == \"__main__\":\n",
    "    dataset_path = \"dataset-resized/\"\n",
    "    remove_corrupt_images(dataset_path)  \n",
    "\n",
    "# Making Same Dimensions \n",
    "def check_image_sizes(dataset_path):\n",
    "    size_counter = Counter()"
   ]
  }
 ],
 "metadata": {
  "kernelspec": {
   "display_name": "3.9.16",
   "language": "python",
   "name": "python3"
  },
  "language_info": {
   "codemirror_mode": {
    "name": "ipython",
    "version": 3
   },
   "file_extension": ".py",
   "mimetype": "text/x-python",
   "name": "python",
   "nbconvert_exporter": "python",
   "pygments_lexer": "ipython3",
   "version": "3.9.16"
  }
 },
 "nbformat": 4,
 "nbformat_minor": 2
}
