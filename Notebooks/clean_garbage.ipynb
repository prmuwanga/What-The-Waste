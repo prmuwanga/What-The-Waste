{
 "cells": [
  {
   "cell_type": "code",
   "execution_count": 11,
   "metadata": {},
   "outputs": [],
   "source": [
    "# Importing Libraries\n",
    "import pandas as pd \n",
    "import numpy as np\n",
    "import matplotlib.pyplot as plt\n",
    "import seaborn as sns\n",
    "from PIL import Image \n",
    "import os"
   ]
  },
  {
   "cell_type": "code",
   "execution_count": 5,
   "metadata": {},
   "outputs": [
    {
     "name": "stdout",
     "output_type": "stream",
     "text": [
      "Requirement already satisfied: torch in c:\\users\\prmuw\\appdata\\local\\programs\\python\\python312\\lib\\site-packages (2.6.0)\n",
      "Requirement already satisfied: torchvision in c:\\users\\prmuw\\appdata\\local\\programs\\python\\python312\\lib\\site-packages (0.21.0)\n",
      "Requirement already satisfied: torchaudio in c:\\users\\prmuw\\appdata\\local\\programs\\python\\python312\\lib\\site-packages (2.6.0)\n",
      "Requirement already satisfied: filelock in c:\\users\\prmuw\\appdata\\local\\programs\\python\\python312\\lib\\site-packages (from torch) (3.13.1)\n",
      "Requirement already satisfied: typing-extensions>=4.10.0 in c:\\users\\prmuw\\appdata\\local\\programs\\python\\python312\\lib\\site-packages (from torch) (4.10.0)\n",
      "Requirement already satisfied: networkx in c:\\users\\prmuw\\appdata\\local\\programs\\python\\python312\\lib\\site-packages (from torch) (3.4.2)\n",
      "Requirement already satisfied: jinja2 in c:\\users\\prmuw\\appdata\\local\\programs\\python\\python312\\lib\\site-packages (from torch) (3.1.3)\n",
      "Requirement already satisfied: fsspec in c:\\users\\prmuw\\appdata\\local\\programs\\python\\python312\\lib\\site-packages (from torch) (2024.2.0)\n",
      "Requirement already satisfied: setuptools in c:\\users\\prmuw\\appdata\\local\\programs\\python\\python312\\lib\\site-packages (from torch) (69.2.0)\n",
      "Requirement already satisfied: sympy==1.13.1 in c:\\users\\prmuw\\appdata\\local\\programs\\python\\python312\\lib\\site-packages (from torch) (1.13.1)\n",
      "Requirement already satisfied: mpmath<1.4,>=1.1.0 in c:\\users\\prmuw\\appdata\\local\\programs\\python\\python312\\lib\\site-packages (from sympy==1.13.1->torch) (1.3.0)\n",
      "Requirement already satisfied: numpy in c:\\users\\prmuw\\appdata\\local\\programs\\python\\python312\\lib\\site-packages (from torchvision) (1.26.4)\n",
      "Requirement already satisfied: pillow!=8.3.*,>=5.3.0 in c:\\users\\prmuw\\appdata\\local\\programs\\python\\python312\\lib\\site-packages (from torchvision) (10.2.0)\n",
      "Requirement already satisfied: MarkupSafe>=2.0 in c:\\users\\prmuw\\appdata\\local\\programs\\python\\python312\\lib\\site-packages (from jinja2->torch) (2.1.5)\n"
     ]
    },
    {
     "name": "stderr",
     "output_type": "stream",
     "text": [
      "\n",
      "[notice] A new release of pip is available: 24.2 -> 25.0.1\n",
      "[notice] To update, run: python.exe -m pip install --upgrade pip\n"
     ]
    }
   ],
   "source": [
    "! pip install torch torchvision torchaudio\n"
   ]
  },
  {
   "cell_type": "markdown",
   "metadata": {},
   "source": [
    "#  Resizing Images"
   ]
  },
  {
   "cell_type": "code",
   "execution_count": 12,
   "metadata": {},
   "outputs": [
    {
     "name": "stdout",
     "output_type": "stream",
     "text": [
      "torch.Size([32, 3, 224, 224]) tensor([ 1,  4,  9,  4,  1,  1,  7,  0,  7,  3,  3, 10, 10,  4,  7,  1,  9,  4,\n",
      "         2,  6,  0,  7,  4,  1,  8,  4,  2,  1,  0,  7,  3,  1])\n",
      "['battery', 'biological', 'brown-glass', 'cardboard', 'clothes', 'green-glass', 'metal', 'paper', 'plastic', 'shoes', 'trash', 'white-glass']\n",
      "{'battery': 0, 'biological': 1, 'brown-glass': 2, 'cardboard': 3, 'clothes': 4, 'green-glass': 5, 'metal': 6, 'paper': 7, 'plastic': 8, 'shoes': 9, 'trash': 10, 'white-glass': 11}\n"
     ]
    }
   ],
   "source": [
    "from torchvision import datasets, transforms\n",
    "from torch.utils.data import DataLoader\n",
    "\n",
    "# Resize the input PIL images in 224x224 pixels which is a common input for RESNET\n",
    "transform = transforms.Compose([ # chains mulitple transformation together \n",
    "    transforms.Resize((224, 224)), # ensure uniformity images \n",
    "    transforms.ToTensor() # makes pixels range from 0.0 to 1.0 with channels height, width\n",
    "])\n",
    "\n",
    "# Load dataset from folder with class-subfolders\n",
    "dataset = datasets.ImageFolder(root='garbage_classification', transform=transform)\n",
    "\n",
    "# Create a DataLoader for batching (optional but common)\n",
    "dataloader = DataLoader(dataset, batch_size=32, shuffle=True)\n",
    "\n",
    "# Example: get one batch\n",
    "images, labels = next(iter(dataloader))\n",
    "print(images.shape, labels)\n",
    "print(dataset.classes)\n",
    "print(dataset.class_to_idx)"
   ]
  },
  {
   "cell_type": "markdown",
   "metadata": {},
   "source": [
    "## Removing Corrupt Images "
   ]
  },
  {
   "cell_type": "code",
   "execution_count": 13,
   "metadata": {},
   "outputs": [
    {
     "name": "stdout",
     "output_type": "stream",
     "text": [
      "Total images checked: 15515\n",
      "Corrupt images found: 0\n"
     ]
    }
   ],
   "source": [
    "def corrupt(folder): \n",
    "    corrupt_images =[]\n",
    "    count = 0 # num of images oepened \n",
    "\n",
    "    for subdir, _, files in os.walk(folder): \n",
    "        for file in files: \n",
    "            if file.lower().endswith(('.jpg', '.jpeg', '.png')): \n",
    "                count +=1 \n",
    "                file_path = os.path.join(subdir,file)\n",
    "                try: \n",
    "                    with Image.open(file_path) as img: \n",
    "                        img.verify # verifying whether that is indeed an image \n",
    "\n",
    "                except(IOError, OSError) as e:\n",
    "                    corrupt_images.append(file_path)\n",
    "\n",
    "\n",
    "\n",
    "    print(f\"Total images checked: {count}\")\n",
    "    print(f\"Corrupt images found: {len(corrupt_images)}\")\n",
    "    return corrupt_images\n",
    "    \n",
    "corrupt_list = corrupt('garbage_classification')\n"
   ]
  }
 ],
 "metadata": {
  "kernelspec": {
   "display_name": "Python 3",
   "language": "python",
   "name": "python3"
  },
  "language_info": {
   "codemirror_mode": {
    "name": "ipython",
    "version": 3
   },
   "file_extension": ".py",
   "mimetype": "text/x-python",
   "name": "python",
   "nbconvert_exporter": "python",
   "pygments_lexer": "ipython3",
   "version": "3.12.2"
  }
 },
 "nbformat": 4,
 "nbformat_minor": 2
}
