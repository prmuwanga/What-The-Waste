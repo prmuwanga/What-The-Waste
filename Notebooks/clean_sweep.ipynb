{
 "cells": [
  {
   "cell_type": "code",
   "execution_count": 23,
   "metadata": {},
   "outputs": [],
   "source": [
    "# Importing Libraries\n",
    "import pandas as pd \n",
    "import numpy as np\n",
    "import matplotlib.pyplot as plt\n",
    "import seaborn as sns"
   ]
  },
  {
   "cell_type": "markdown",
   "metadata": {},
   "source": [
    "## Cleaning data "
   ]
  },
  {
   "cell_type": "markdown",
   "metadata": {},
   "source": [
    "#### Removing Corrupted Images:"
   ]
  },
  {
   "cell_type": "code",
   "execution_count": 32,
   "metadata": {},
   "outputs": [
    {
     "name": "stdout",
     "output_type": "stream",
     "text": [
      "Removed 0 corrupt images.\n",
      "Removed 0 corrupt images.\n"
     ]
    }
   ],
   "source": [
    "import os \n",
    "from PIL import Image\n",
    "from collections import Counter\n",
    "\n",
    "# Remove Corrupted or Unreadable Images \n",
    "dataset_path = \"../Datasets/dataset-resized\"\n",
    "dataset_path2 = \"../Datasets/garbage_classification\"\n",
    "\n",
    "def remove_corrupt_images(dataset_path):\n",
    "    total_removed = 0 \n",
    "    \n",
    "    for class_folder in os.listdir(dataset_path):\n",
    "        class_path = os.path.join(dataset_path, class_folder)\n",
    "        \n",
    "        if not os.path.isdir(class_path):\n",
    "            continue\n",
    "\n",
    "        for filename in os.listdir(class_path):\n",
    "            file_path = os.path.join(class_path, filename)\n",
    "            try:\n",
    "                with Image.open(file_path) as img:\n",
    "                \n",
    "                    img.verify()\n",
    "            except Exception as e:\n",
    "                print(f\"Removeing corrupted image: {file_path} - {e}\")\n",
    "                os.remove(file_path)\n",
    "                total_removed += 1 \n",
    "    print(f\"Removed {total_removed} corrupt images.\")\n",
    "\n",
    "if __name__ == \"__main__\":\n",
    "    dataset_path = \"../Datasets/dataset-resized\"\n",
    "    remove_corrupt_images(dataset_path)  \n",
    "\n",
    "if __name__ == \"__main__\":\n",
    "    dataset_path = \"../Datasets/garbage_classification\"\n",
    "    remove_corrupt_images(dataset_path)  \n",
    "    "
   ]
  },
  {
   "cell_type": "markdown",
   "metadata": {},
   "source": [
    "#### Checking Image Sizes:\n"
   ]
  },
  {
   "cell_type": "code",
   "execution_count": 25,
   "metadata": {},
   "outputs": [
    {
     "name": "stdout",
     "output_type": "stream",
     "text": [
      "\n",
      "Image Size Distribution:\n",
      "Size(512, 384): 482 images\n"
     ]
    }
   ],
   "source": [
    "def check_image_sizes(dataset_path):\n",
    "    size_counter = Counter()\n",
    "    \n",
    "    for class_folder in os.listdir(dataset_path):\n",
    "        class_path = os.path.join(dataset_path, class_folder)\n",
    "        if not os.path.isdir(class_path):\n",
    "            continue\n",
    "    \n",
    "    for filename in os.listdir(class_path):\n",
    "        file_path = os.path.join(class_path, filename)\n",
    "        try:\n",
    "            with Image.open(file_path) as img:\n",
    "                size = img.size\n",
    "                size_counter[size] += 1\n",
    "        except Exception as e:\n",
    "            print(f\"Error processing {file_path}):{e}\")\n",
    "            \n",
    "    print(\"\\nImage Size Distribution:\")\n",
    "    for size, count in size_counter.items():\n",
    "        print (f\"Size{size}: {count} images\")\n",
    "    \n",
    "check_image_sizes(dataset_path) "
   ]
  },
  {
   "cell_type": "markdown",
   "metadata": {},
   "source": [
    "#### Resizing images to 224 x 224 pixels"
   ]
  },
  {
   "cell_type": "code",
   "execution_count": 28,
   "metadata": {},
   "outputs": [
    {
     "name": "stdout",
     "output_type": "stream",
     "text": [
      "\n",
      " All images resized to (224, 224) and saived in 'resized-cleaned-dataset' \n",
      "\n",
      " All images resized to (224, 224) and saived in 'clean_garbage_classification' \n"
     ]
    }
   ],
   "source": [
    "# Resizing images to 224 x 224 pixels\n",
    "def resize_images(input_path, output_path, size=(224, 224)):\n",
    "    os.makedirs(output_path, exist_ok=True)\n",
    "    \n",
    "    for class_folder in os.listdir(input_path):\n",
    "        class_input = os.path.join(input_path, class_folder)\n",
    "        class_output = os.path.join(output_path, class_folder)\n",
    "        \n",
    "        if not os.path.isdir(class_input):\n",
    "            continue\n",
    "        \n",
    "        os.makedirs(class_output, exist_ok=True)\n",
    "        \n",
    "        for filename in os.listdir(class_input):\n",
    "            input_file = os.path.join(class_input, filename)\n",
    "            output_file = os.path.join(class_output, filename)\n",
    "        \n",
    "            try:\n",
    "                with Image.open(input_file) as img:\n",
    "                    img = img.convert(\"RGB\")\n",
    "                    img = img.resize(size)\n",
    "                    img.save(output_file)\n",
    "            except Exception as e:\n",
    "                print(f\"Skipping {input_file}: {e}\")\n",
    "    print(f\"\\n All images resized to {size} and saived in '{output_path}' \")\n",
    "\n",
    "if __name__ == \"__main__\":\n",
    "    input_folder = \"../Datasets/dataset-resized\"\n",
    "    output_folder = \"resized-cleaned-dataset\"\n",
    "    resize_images(input_folder, output_folder)\n",
    "    \n",
    "if __name__ == \"__main__\":\n",
    "    input_folder = \"../Datasets/garbage_classification\"\n",
    "    output_folder = \"clean_garbage_classification\"\n",
    "    resize_images(input_folder, output_folder)"
   ]
  },
  {
   "cell_type": "markdown",
   "metadata": {},
   "source": [
    "#### Counting Images"
   ]
  },
  {
   "cell_type": "code",
   "execution_count": 30,
   "metadata": {},
   "outputs": [
    {
     "name": "stdout",
     "output_type": "stream",
     "text": [
      "paper: 594 images\n",
      "metal: 410 images\n",
      "cardboard: 403 images\n",
      "trash: 137 images\n",
      "glass: 501 images\n",
      "plastic: 482 images\n",
      "Total images in dataset: 2527\n"
     ]
    }
   ],
   "source": [
    "# Counting Images Per Class Folder/Total\n",
    "\n",
    "def count_images_in_folders(dataset_path):\n",
    "    total_images = 0\n",
    "    \n",
    "    for class_folder in os.listdir(dataset_path):\n",
    "        class_path = os.path.join(dataset_path, class_folder)\n",
    "        \n",
    "        if not os.path.isdir(class_path):\n",
    "            continue\n",
    "        \n",
    "        num_images = len([f for f in os.listdir(class_path) if f.lower().endswith(('.jpg','.jpeg','.png'))])\n",
    "        \n",
    "        print(f\"{class_folder}: {num_images} images\")\n",
    "        total_images += num_images\n",
    "    print(f\"Total images in dataset: {total_images}\")\n",
    "dataset_path = \"resized-cleaned-dataset\"\n",
    "count_images_in_folders(dataset_path)         "
   ]
  },
  {
   "cell_type": "code",
   "execution_count": 33,
   "metadata": {},
   "outputs": [
    {
     "name": "stdout",
     "output_type": "stream",
     "text": [
      "Merged 'paper' from '../Datasets/resized-cleaned-dataset'\n",
      "Merged 'metal' from '../Datasets/resized-cleaned-dataset'\n",
      "Merged 'cardboard' from '../Datasets/resized-cleaned-dataset'\n",
      "Merged 'trash' from '../Datasets/resized-cleaned-dataset'\n",
      "Merged 'glass' from '../Datasets/resized-cleaned-dataset'\n",
      "Merged 'plastic' from '../Datasets/resized-cleaned-dataset'\n",
      "Merged 'paper' from '../Datasets/clean_garbage_classification'\n",
      "Merged 'green-glass' from '../Datasets/clean_garbage_classification'\n",
      "Merged 'clothes' from '../Datasets/clean_garbage_classification'\n",
      "Merged 'metal' from '../Datasets/clean_garbage_classification'\n",
      "Merged 'cardboard' from '../Datasets/clean_garbage_classification'\n",
      "Merged 'trash' from '../Datasets/clean_garbage_classification'\n",
      "Merged 'biological' from '../Datasets/clean_garbage_classification'\n",
      "Merged 'white-glass' from '../Datasets/clean_garbage_classification'\n",
      "Merged 'battery' from '../Datasets/clean_garbage_classification'\n",
      "Merged 'brown-glass' from '../Datasets/clean_garbage_classification'\n",
      "Merged 'plastic' from '../Datasets/clean_garbage_classification'\n",
      "Merged 'shoes' from '../Datasets/clean_garbage_classification'\n"
     ]
    }
   ],
   "source": [
    "import os\n",
    "import shutil\n",
    "\n",
    "def merge_datasets(dataset1, dataset2, merged_output):\n",
    "    os.makedirs(merged_output, exist_ok=True)\n",
    "\n",
    "    for dataset in [dataset1, dataset2]:\n",
    "        for class_folder in os.listdir(dataset):\n",
    "            class_path = os.path.join(dataset, class_folder)\n",
    "            if not os.path.isdir(class_path):\n",
    "                continue\n",
    "\n",
    "            merged_class_path = os.path.join(merged_output, class_folder)\n",
    "            os.makedirs(merged_class_path, exist_ok=True)\n",
    "\n",
    "            for file in os.listdir(class_path):\n",
    "                src = os.path.join(class_path, file)\n",
    "                dst = os.path.join(merged_class_path, file)\n",
    "\n",
    "                if os.path.exists(dst):\n",
    "                    base, ext = os.path.splitext(file)\n",
    "                    file = f\"{base}_{os.path.basename(dataset)}{ext}\"\n",
    "                    dst = os.path.join(merged_class_path, file)\n",
    "\n",
    "                shutil.copy2(src, dst)\n",
    "\n",
    "            print(f\"Merged '{class_folder}' from '{dataset}'\")\n",
    "\n",
    "if __name__ == \"__main__\":\n",
    "    dataset1 = \"../Datasets/resized-cleaned-dataset\"\n",
    "    dataset2 = \"../Datasets/clean_garbage_classification\"\n",
    "    merged_output = \"Datasets/combined-cleaned-dataset\"\n",
    "    merge_datasets(dataset1, dataset2, merged_output)\n"
   ]
  },
  {
   "cell_type": "code",
   "execution_count": 34,
   "metadata": {},
   "outputs": [
    {
     "name": "stdout",
     "output_type": "stream",
     "text": [
      "paper: 1644 images\n",
      "green-glass: 629 images\n",
      "clothes: 5325 images\n",
      "metal: 1179 images\n",
      "cardboard: 1294 images\n",
      "trash: 834 images\n",
      "glass: 501 images\n",
      "biological: 985 images\n",
      "white-glass: 775 images\n",
      "battery: 945 images\n",
      "brown-glass: 607 images\n",
      "plastic: 1347 images\n",
      "shoes: 1977 images\n",
      "Total images in dataset: 18042\n"
     ]
    }
   ],
   "source": [
    "dataset_path = \"Datasets/combined-cleaned-dataset\"\n",
    "count_images_in_folders(dataset_path)"
   ]
  }
 ],
 "metadata": {
  "kernelspec": {
   "display_name": "3.9.16",
   "language": "python",
   "name": "python3"
  },
  "language_info": {
   "codemirror_mode": {
    "name": "ipython",
    "version": 3
   },
   "file_extension": ".py",
   "mimetype": "text/x-python",
   "name": "python",
   "nbconvert_exporter": "python",
   "pygments_lexer": "ipython3",
   "version": "3.9.16"
  }
 },
 "nbformat": 4,
 "nbformat_minor": 2
}
